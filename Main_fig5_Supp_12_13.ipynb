{
 "cells": [
  {
   "cell_type": "markdown",
   "id": "d220635d",
   "metadata": {
    "tags": [
     "papermill-error-cell-tag"
    ]
   },
   "source": [
    "<span style=\"color:red; font-family:Helvetica Neue, Helvetica, Arial, sans-serif; font-size:2em;\">An Exception was encountered at '<a href=\"#papermill-error-cell\">In [6]</a>'.</span>"
   ]
  },
  {
   "cell_type": "code",
   "execution_count": 1,
   "id": "2dcf5ebe-bfd7-47b6-b32d-53fe1d3ac5d5",
   "metadata": {
    "execution": {
     "iopub.execute_input": "2024-07-08T09:48:06.237680Z",
     "iopub.status.busy": "2024-07-08T09:48:06.236920Z",
     "iopub.status.idle": "2024-07-08T09:48:08.811281Z",
     "shell.execute_reply": "2024-07-08T09:48:08.810302Z"
    },
    "papermill": {
     "duration": 2.602038,
     "end_time": "2024-07-08T09:48:08.816952",
     "exception": false,
     "start_time": "2024-07-08T09:48:06.214914",
     "status": "completed"
    },
    "tags": []
   },
   "outputs": [],
   "source": [
    "import sys\n",
    "sys.path.append('modules/')\n",
    "import pandas as pd\n",
    "import numpy as np\n",
    "import matplotlib.pyplot as plt\n",
    "import seaborn as sns\n",
    "import os\n",
    "from importlib import reload\n",
    "import pickle\n",
    "from Bio import SeqIO\n",
    "import scipy.io as sio\n",
    "import scipy\n",
    "sns.set_style('white')\n",
    "from importlib import reload\n",
    "from scipy import stats\n",
    "import re\n",
    "import matplotlib.colors as colors\n",
    "from matplotlib.gridspec import GridSpec\n",
    "from collections import defaultdict\n",
    "import logomaker\n",
    "from Bio import motifs as mots\n",
    "import glob\n",
    "import matplotlib\n",
    "from scipy.ndimage.filters import gaussian_filter1d\n",
    "import figures as fg\n",
    "import general_figures as gn\n",
    "import statsmodels.api as sm\n",
    "from itertools import repeat\n",
    "from collections import defaultdict\n",
    "import statsmodels.api as sa\n",
    "import statsmodels.formula.api as sfa\n",
    "import scikit_posthocs as sp\n",
    "from statsmodels.stats.multicomp import pairwise_tukeyhsd\n",
    "import math\n",
    "%config InlineBackend.figure_format='retina'\n",
    "matplotlib.rcParams['pdf.fonttype'] = 42\n",
    "\n",
    "import warnings\n",
    "warnings.simplefilter(action='ignore', category=FutureWarning)\n",
    "warnings.simplefilter(action='ignore', category=RuntimeWarning)\n",
    "\n"
   ]
  },
  {
   "cell_type": "markdown",
   "id": "4f87b54f",
   "metadata": {
    "papermill": {
     "duration": 0.01597,
     "end_time": "2024-07-08T09:48:08.855619",
     "exception": false,
     "start_time": "2024-07-08T09:48:08.839649",
     "status": "completed"
    },
    "tags": []
   },
   "source": [
    "# Load all the data, filter, rename, and bin"
   ]
  },
  {
   "cell_type": "code",
   "execution_count": 2,
   "id": "9e2eb0e5-647e-439d-a70a-f12c3eb37235",
   "metadata": {
    "execution": {
     "iopub.execute_input": "2024-07-08T09:48:08.888154Z",
     "iopub.status.busy": "2024-07-08T09:48:08.887684Z",
     "iopub.status.idle": "2024-07-08T09:48:10.435337Z",
     "shell.execute_reply": "2024-07-08T09:48:10.434482Z"
    },
    "papermill": {
     "duration": 1.568801,
     "end_time": "2024-07-08T09:48:10.440028",
     "exception": false,
     "start_time": "2024-07-08T09:48:08.871227",
     "status": "completed"
    },
    "tags": []
   },
   "outputs": [],
   "source": [
    "by_facs = {'Gal4':{'Full':3.31, 'Gal4AD': 3.341, 'Gcn4AD': 3.341},\n",
    "          'Gcn4':{'Full': 3.27, 'Gal4AD': 3.32 , 'Gcn4AD': 3.32 },\n",
    "          'Mig3':{'Full':3.26, 'Gal4AD':3.32 , 'Gcn4AD': 3.32 },\n",
    "          'Yap1':{'Full':3.31, 'Gal4AD':3.3 , 'Gcn4AD':3.3 },\n",
    "          'Msn2':{'Full':3.592, 'Gal4AD':3.62 , 'Gcn4AD':3.62 },}\n",
    "directions = {'Msn2':['upregulated','upregulated','upregulated'],\n",
    "            'Mig3':['downregulated','upregulated','upregulated'],\n",
    "             'Yap1':['upregulated','upregulated','upregulated'],\n",
    "            'Gal4':['upregulated','upregulated','upregulated'],\n",
    "            'Gcn4':['upregulated','upregulated','upregulated'],\n",
    "                         'Sko1':['upregulated','upregulated','upregulated']}\n",
    "\n",
    "data = pd.read_pickle('data/averaged_chec_sumprom.gz')\n",
    "TFS = ['Gal4', 'Mig3', 'Msn2']\n",
    "\n",
    "gp = pd.read_csv('data/geneinfo_params.csv', index_col=0)\n",
    "aro_targets = np.array([1302,6541,4730,4729,2603,2604])\n",
    "aro_targets = gp.iloc[aro_targets-1].index\n",
    "data_check = data.rename(columns={'Gal4DBD_Gal4AD_dGal4_deletions_tef_3_reps_0.95_meancorr': 'Gal4DBD_Gcn4AD_dGal4_deletions_tef_3_reps_0.97_meancorr',\n",
    "                                     'Gal4DBD_Gcn4AD_dGal4_deletions_tef_3_reps_0.97_meancorr':'Gal4DBD_Gal4AD_dGal4_deletions_tef_3_reps_0.95_meancorr'})\n",
    "data_waro = data\n",
    "data_waro= data_waro.rename(columns={'Gal4DBD_Gal4AD_dGal4_deletions_tef_3_reps_0.95_meancorr': 'Gal4DBD_Gcn4AD_dGal4_deletions_tef_3_reps_0.97_meancorr',\n",
    "                                     'Gal4DBD_Gcn4AD_dGal4_deletions_tef_3_reps_0.97_meancorr':'Gal4DBD_Gal4AD_dGal4_deletions_tef_3_reps_0.95_meancorr'})\n",
    "data_check = data.drop(aro_targets)\n",
    "\n",
    "\n",
    "nuc_df = pd.read_csv('data/nucleosomes_df_perprom700bp.csv', index_col=0)\n",
    "rna_nonlibs = pd.read_pickle('data/all_nonlibs_rna_samles.gz')\n",
    "rna_libs = pd.read_pickle('data/all_libs_rna_samles.gz').clip(0)\n",
    "facs = pd.read_pickle('data/all_libs_rna_samles.gz').clip(0).loc['facs']\n",
    "by_rna = pd.read_csv('data/by_ultimate_61samples.csv', index_col=0)\n",
    "by_rna_median = pd.DataFrame(by_rna.median(axis=1), columns=['BY_61_med'])\n",
    "\n",
    "# Binning and filtering genes\n",
    "all_dat = pd.concat([rna_libs.drop('facs'), rna_nonlibs], axis=1)\n",
    "gene_thresh = 4.5\n",
    "strain_thsh = 0.025\n",
    "for_binnning = ((all_dat > gene_thresh).sum(axis=1) > all_dat.shape[1] * strain_thsh).values\n",
    "bins = pd.qcut(by_rna_median.loc[for_binnning, 'BY_61_med'], q=10, labels=False, duplicates='drop')\n",
    "data_waro = data_waro.loc[bins.drop('MNASE').index]\n",
    "\n",
    "\n",
    "#Looking only on relevant genes\n",
    "rna_nonlibs = rna_nonlibs.loc[bins.index]\n",
    "rna_libs = rna_libs.loc[bins.index]\n",
    "by_rna_median = by_rna_median.loc[bins.index]\n",
    "rna_libs = pd.concat([rna_libs,pd.DataFrame(facs).transpose()], axis=0)\n",
    "data_check = data_check.loc[bins.drop(['MNASE', 'SPL2', 'NAF1', 'ESBP6', 'SDH6']).index]\n",
    "\n",
    "rna_libs.columns = [name.replace('Parent', 'nativeprom') for name in rna_libs.columns.values]\n",
    "facs.index = [name.replace('Parent', 'nativeprom') for name in facs.index.values]\n",
    "\n",
    "\n",
    "\n",
    "opn = pd.read_csv('data/external_datasets/opn_mine.csv', index_col=0)\n",
    "opn.loc[np.isinf(opn.loc[:, 'opn_score']).values, 'opn_score'] = math.nan\n",
    "opn = gn.prepare_opn(opn)\n",
    "\n",
    "newdat = pd.read_pickle('data/sumprom_20230328_last_one.gz')\n",
    "med15newdat = newdat.filter(regex='Med15')\n",
    "med15newdat.columns = [name[:-2] for name in med15newdat.columns.values]\n",
    "med15newdat = med15newdat.transpose().reset_index().groupby('index').mean().transpose()\n",
    "med15newdat.columns.name = None\n",
    "med15newdat.columns = [name.split('_')[-1].capitalize().replace('gal4ad', 'Gal4AD').replace('gcn4ad', 'Gcn4AD')+'_med15mnase' for name in med15newdat.columns.values]\n",
    "med15newdat = med15newdat.loc[bins.index[:-1]]\n",
    "med15newdat = med15newdat.drop('Sko1dbdGal4AD_med15mnase', axis=1)"
   ]
  },
  {
   "cell_type": "markdown",
   "id": "3aece8fa-4f7e-456f-86b9-14faa36930be",
   "metadata": {
    "papermill": {
     "duration": 0.014079,
     "end_time": "2024-07-08T09:48:10.471372",
     "exception": false,
     "start_time": "2024-07-08T09:48:10.457293",
     "status": "completed"
    },
    "tags": []
   },
   "source": [
    "# Prepare the data for given TFs"
   ]
  },
  {
   "cell_type": "code",
   "execution_count": 3,
   "id": "536c0306-6577-459d-884e-0f77da0037a5",
   "metadata": {
    "execution": {
     "iopub.execute_input": "2024-07-08T09:48:10.497564Z",
     "iopub.status.busy": "2024-07-08T09:48:10.497358Z",
     "iopub.status.idle": "2024-07-08T09:48:10.529851Z",
     "shell.execute_reply": "2024-07-08T09:48:10.529044Z"
    },
    "papermill": {
     "duration": 0.048509,
     "end_time": "2024-07-08T09:48:10.532783",
     "exception": false,
     "start_time": "2024-07-08T09:48:10.484274",
     "status": "completed"
    },
    "tags": []
   },
   "outputs": [],
   "source": [
    "all_tfs = ['Vhr1',\n",
    " 'Nrg2',\n",
    " 'Pdr8',\n",
    " 'Yap1',\n",
    " 'Mig3',\n",
    " 'Dot6',\n",
    " 'Abf1',\n",
    " 'Crz1',\n",
    " 'Gal4',\n",
    " 'Gln3',\n",
    " 'Reb1',\n",
    " 'Msn2',\n",
    " 'Met31',\n",
    " 'Rpn4',\n",
    " 'Sko1',\n",
    " 'Ino2',\n",
    " 'Gcn4',\n",
    " 'Cst6']\n",
    "\n",
    "lab_dat = data_waro.filter(regex='|'.join(all_tfs)).filter(regex='lab_data')\n",
    "lab_dat = lab_dat.drop(lab_dat.filter(regex='dbd').columns, axis=1)\n",
    "lab_dat = lab_dat.drop('Gal4_lab_data', axis=1)\n",
    "lab_dat.loc[:, 'Gal4'] = data_waro.filter(regex='^Gal4Full').filter(regex='erv')\n",
    "lab_dat = lab_dat.rename({'Gcn4_lown_lab_data': 'Gcn4_lab_data'}, axis=1)\n",
    "\n",
    "lab_dat.columns = [name.replace('_lab_data', '') for name in lab_dat.columns.values]\n",
    "\n",
    "\n",
    "tfs_binding_deletions_tef = data_waro.filter(regex=''.join(['^{}|'.format(tf) for tf in TFS])[:-1]).filter(regex='deletions')\n",
    "tfs_binding_deletions_tef = pd.concat([tfs_binding_deletions_tef.filter(regex='Full'),\n",
    "                                      tfs_binding_deletions_tef.filter(regex='Gal4AD'),\n",
    "                                      tfs_binding_deletions_tef.filter(regex='Gcn4AD'),], axis=1)\n",
    "alltogether = pd.concat([tfs_binding_deletions_tef, med15newdat], axis=1)\n",
    "ordered_df_all = pd.concat([alltogether.filter(regex='^{}'.format(i)) for i in ['Gal4', 'Mig3', 'Msn2']], axis=1)\n",
    "ordered_df_all.columns = ['_'.join(k.split('_')[0:2]) for k in ordered_df_all.columns.values]\n",
    "\n",
    "needed= ['Gal4DBD_Gal4AD','Gal4dbdGal4AD_med15mnase', 'Mig3DBD_Gcn4AD', 'Mig3dbdGcn4AD_med15mnase', 'Msn2DBD_Gal4AD','Msn2dbdGal4AD_med15mnase']\n",
    "ordered_df = ordered_df_all.loc[:, needed]"
   ]
  },
  {
   "cell_type": "code",
   "execution_count": 4,
   "id": "b962fb9d-b196-42de-9883-30829c448539",
   "metadata": {
    "execution": {
     "iopub.execute_input": "2024-07-08T09:48:10.553032Z",
     "iopub.status.busy": "2024-07-08T09:48:10.552757Z",
     "iopub.status.idle": "2024-07-08T09:48:30.139695Z",
     "shell.execute_reply": "2024-07-08T09:48:30.138543Z"
    },
    "papermill": {
     "duration": 19.602603,
     "end_time": "2024-07-08T09:48:30.145060",
     "exception": false,
     "start_time": "2024-07-08T09:48:10.542457",
     "status": "completed"
    },
    "tags": []
   },
   "outputs": [],
   "source": [
    "summary_stat_d = dict()\n",
    "for tf in ['Gal4', 'Mig3', 'Msn2']:\n",
    "    summary_stat_d[tf]= gn.prepare_data(tf, tfs_binding_deletions_tef, rna_libs, data_waro, bins)"
   ]
  },
  {
   "cell_type": "markdown",
   "id": "ea937297-167b-423d-bfd2-4bbb27a43261",
   "metadata": {
    "papermill": {
     "duration": 0.015649,
     "end_time": "2024-07-08T09:48:30.181772",
     "exception": false,
     "start_time": "2024-07-08T09:48:30.166123",
     "status": "completed"
    },
    "tags": []
   },
   "source": [
    "# Fig 4B"
   ]
  },
  {
   "cell_type": "code",
   "execution_count": 5,
   "id": "cd5b71b8-fd4a-420a-90dc-d9d2d086c445",
   "metadata": {
    "execution": {
     "iopub.execute_input": "2024-07-08T09:48:30.209972Z",
     "iopub.status.busy": "2024-07-08T09:48:30.209630Z",
     "iopub.status.idle": "2024-07-08T09:48:30.342955Z",
     "shell.execute_reply": "2024-07-08T09:48:30.342171Z"
    },
    "papermill": {
     "duration": 0.152585,
     "end_time": "2024-07-08T09:48:30.348078",
     "exception": false,
     "start_time": "2024-07-08T09:48:30.195493",
     "status": "completed"
    },
    "tags": []
   },
   "outputs": [],
   "source": [
    "\n",
    "native_med = pd.DataFrame(gn.get_zscored(med15newdat).Native_med15mnase)\n",
    "gen_p = pd.read_csv('data/params_compendium.csv', index_col=0)\n",
    "pugh_f = lambda x: True if x == '02_STM' else False\n",
    "dep_f = lambda x: True if x == 'tail_dependent' else False\n",
    "gen_p.pugh = gen_p.pugh.map(pugh_f)\n",
    "gen_p.dependence = gen_p.dependence.map(dep_f)\n",
    "zent = pd.read_csv('data/external_datasets/zentner_med15dia.csv', index_col=0)\n",
    "holstege = pd.read_csv('data/external_datasets/holstege_med.csv', index_col=0).filter(regex='med15').loc[data_waro.index]\n",
    "\n",
    "med_opn = pd.concat([native_med, gen_p.loc[native_med.index, :], zent.loc[data_waro.drop(['CCW22', 'YIL080W', 'SDL1']).index], holstege], axis=1)"
   ]
  },
  {
   "cell_type": "markdown",
   "id": "8e9ade0d",
   "metadata": {
    "tags": [
     "papermill-error-cell-tag"
    ]
   },
   "source": [
    "<span id=\"papermill-error-cell\" style=\"color:red; font-family:Helvetica Neue, Helvetica, Arial, sans-serif; font-size:2em;\">Execution using papermill encountered an exception here and stopped:</span>"
   ]
  },
  {
   "cell_type": "code",
   "execution_count": 6,
   "id": "f06252d8-7106-4528-98c0-bb719c92ddad",
   "metadata": {
    "execution": {
     "iopub.execute_input": "2024-07-08T09:48:30.384174Z",
     "iopub.status.busy": "2024-07-08T09:48:30.383919Z",
     "iopub.status.idle": "2024-07-08T09:48:30.938012Z",
     "shell.execute_reply": "2024-07-08T09:48:30.936981Z"
    },
    "papermill": {
     "duration": 0.576419,
     "end_time": "2024-07-08T09:48:30.943315",
     "exception": true,
     "start_time": "2024-07-08T09:48:30.366896",
     "status": "failed"
    },
    "tags": []
   },
   "outputs": [
    {
     "ename": "AttributeError",
     "evalue": "module 'matplotlib.pyplot' has no attribute 'scattmed_opn'",
     "output_type": "error",
     "traceback": [
      "\u001b[0;31m---------------------------------------------------------------------------\u001b[0m",
      "\u001b[0;31mAttributeError\u001b[0m                            Traceback (most recent call last)",
      "Cell \u001b[0;32mIn [6], line 1\u001b[0m\n\u001b[0;32m----> 1\u001b[0m \u001b[43mplt\u001b[49m\u001b[38;5;241;43m.\u001b[39;49m\u001b[43mscattmed_opn\u001b[49m\n",
      "\u001b[0;31mAttributeError\u001b[0m: module 'matplotlib.pyplot' has no attribute 'scattmed_opn'"
     ]
    }
   ],
   "source": [
    "plt.scattmed_opn"
   ]
  },
  {
   "cell_type": "code",
   "execution_count": null,
   "id": "e64c919a-2496-4cd7-8c69-5e5f04ddd3bf",
   "metadata": {
    "papermill": {
     "duration": null,
     "end_time": null,
     "exception": null,
     "start_time": null,
     "status": "pending"
    },
    "tags": []
   },
   "outputs": [],
   "source": [
    "wind=150\n",
    "currd_mean = med_opn.loc[:, ['opn_score',  'pugh', 'numTFs_bind', 'dependence', 'Native_med15mnase', 'log2FoldChange', 'med15-del vs. wt']].dropna().\\\n",
    "sort_values(by='Native_med15mnase').rolling(window=wind, center=True).mean()\n",
    "currd_std = med_opn.loc[:, ['opn_score',  'pugh', 'numTFs_bind', 'dependence', 'Native_med15mnase', 'log2FoldChange', 'med15-del vs. wt']].dropna().\\\n",
    "sort_values(by='Native_med15mnase').rolling(window=wind, center=True).sem()\n",
    "\n",
    "lower = currd_mean - currd_std\n",
    "upper = currd_mean + currd_std"
   ]
  },
  {
   "cell_type": "code",
   "execution_count": null,
   "id": "b17d85fa-09ba-426c-89c5-01f1e5f346e7",
   "metadata": {
    "papermill": {
     "duration": null,
     "end_time": null,
     "exception": null,
     "start_time": null,
     "status": "pending"
    },
    "tags": []
   },
   "outputs": [],
   "source": [
    "lwd = .5\n",
    "fig, ax = plt.subplots(1, dpi=200, figsize=(8,4))\n",
    "ax.plot(currd_mean.loc[:, 'Native_med15mnase'],currd_mean.loc[:, 'opn_score'], c='k', linewidth=lwd)\n",
    "ax.fill_between(currd_mean.loc[:,'Native_med15mnase'], lower.loc[:, 'opn_score'],\n",
    "                upper.loc[:, 'opn_score'], alpha=0.2, color='midnightblue')\n",
    "ax.set_xlabel('Med15 binding (z-score)')\n",
    "ax.set_ylabel('OPN score')\n",
    "fig.savefig('figures/Main/fig5/5B_1.pdf', bbox_inches = 'tight', transparent=True)\n"
   ]
  },
  {
   "cell_type": "code",
   "execution_count": null,
   "id": "2f812368-ed28-46d9-8847-7674940d8ccb",
   "metadata": {
    "papermill": {
     "duration": null,
     "end_time": null,
     "exception": null,
     "start_time": null,
     "status": "pending"
    },
    "tags": []
   },
   "outputs": [],
   "source": [
    "fig, axes = plt.subplots(2,2, figsize=(5, 4), constrained_layout=False, sharex=True)\n",
    "axes = axes.flatten()\n",
    "ax = axes[0]\n",
    "ax.plot(currd_mean.loc[:, 'Native_med15mnase'],currd_mean.loc[:, 'numTFs_bind'], c='k', linewidth=lwd)\n",
    "ax.fill_between(currd_mean.loc[:,'Native_med15mnase'], lower.loc[:, 'numTFs_bind'],\n",
    "                upper.loc[:, 'numTFs_bind'], alpha=0.2, color='indigo')\n",
    "\n",
    "# twinx1 = ax.twinx()\n",
    "\n",
    "# twinx1.axis[\"right\"] = twinx1.new_fixed_axis(loc=\"right\", offset=(0, 0))\n",
    "\n",
    "ax = axes[1]\n",
    "ax.plot(currd_mean.loc[:, 'Native_med15mnase'],currd_mean.loc[:, 'pugh'], c='k', linewidth=lwd)\n",
    "ax.fill_between(currd_mean.loc[:,'Native_med15mnase'], lower.loc[:, 'pugh'],\n",
    "                upper.loc[:, 'pugh'], alpha=0.2, color='red')\n",
    "\n",
    "ax = axes[2]\n",
    "ax.plot(currd_mean.loc[:, 'Native_med15mnase'],currd_mean.loc[:, 'dependence'], c='k', linewidth=lwd)\n",
    "ax.fill_between(currd_mean.loc[:,'Native_med15mnase'], lower.loc[:, 'dependence'],\n",
    "                upper.loc[:, 'dependence'], alpha=0.2, color='seagreen')\n",
    "\n",
    "ax = axes[3]\n",
    "\n",
    "ax.plot(currd_mean.loc[:, 'Native_med15mnase'],currd_mean.loc[:, 'log2FoldChange'], c='k', linewidth=lwd)\n",
    "ax.fill_between(currd_mean.loc[:,'Native_med15mnase'], lower.loc[:, 'log2FoldChange'],\n",
    "                upper.loc[:, 'log2FoldChange'], alpha=0.2, color='peru', label='Saleh et.al 2021')\n",
    "\n",
    "ax.plot(currd_mean.loc[:, 'Native_med15mnase'],currd_mean.loc[:, 'med15-del vs. wt'], c='k', linewidth=lwd)\n",
    "ax.fill_between(currd_mean.loc[:,'Native_med15mnase'], lower.loc[:, 'med15-del vs. wt'],\n",
    "                upper.loc[:, 'med15-del vs. wt'], alpha=0.2, color='slategray', label='Kemmeren et.al 2014')\n",
    "ax.legend(bbox_to_anchor=[1,1])\n",
    "\n",
    "fig.subplots_adjust(wspace=0.5)\n",
    "\n",
    "labels = ['# TF binders', 'STM fraction', 'Tail dependency\\nfraction', 'log2FC']\n",
    "for axi,label in zip(axes, labels):\n",
    "    axi.set_xlabel('Med15 binding (z-score)')\n",
    "    axi.set_ylabel(label)\n",
    "\n",
    "fig.savefig('figures/Main/fig5/5B_2.pdf', bbox_inches = 'tight', transparent=True)\n"
   ]
  },
  {
   "cell_type": "markdown",
   "id": "d2922ed5-7790-4070-a5e8-ba85b9dbcc1a",
   "metadata": {
    "papermill": {
     "duration": null,
     "end_time": null,
     "exception": null,
     "start_time": null,
     "status": "pending"
    },
    "tags": []
   },
   "source": [
    "# Fig5C S12A"
   ]
  },
  {
   "cell_type": "code",
   "execution_count": null,
   "id": "82a15e6f-32db-436b-aff1-1b59db2d9e8e",
   "metadata": {
    "papermill": {
     "duration": null,
     "end_time": null,
     "exception": null,
     "start_time": null,
     "status": "pending"
    },
    "tags": []
   },
   "outputs": [],
   "source": [
    "tsh = 3\n",
    "dbdts = fg.get_targets_df(ordered_df.filter(regex='DBD'),tsh,'dbd',opn.loc[bins.index[:-1]], '').sort_index(axis=0)\n",
    "wtts = fg.get_targets_df(tfs_binding_deletions_tef.filter(regex='Full').sort_index(axis=1),tsh,'wt',opn.loc[bins.index[:-1]], '').sort_index(axis=0)\n",
    "\n",
    "log2med = np.log2(med15newdat)\n",
    "d_log2med = log2med.sub(log2med.Native_med15mnase, axis=0)\n",
    "d_log2med.replace([np.inf, -np.inf], np.nan, inplace=True)\n",
    "\n",
    "wl = list()\n",
    "dl = list()\n",
    "stats = [1,1,2]\n",
    "induc = list()\n",
    "names = list()\n",
    "dmed15 = list()\n",
    "dbdbind = list()\n",
    "wtoebind = list()\n",
    "labbindl = list()\n",
    "\n",
    "# fig = plt.figure()\n",
    "# subf = fig.subfigures(3,1)\n",
    "\n",
    "for numi, i in enumerate(['Gal4', 'Msn2', 'Mig3']):\n",
    "    cwt = wtts.filter(regex='^'+i, axis=0).loc[:, 'wt'].values[0]\n",
    "    cdbds = dbdts.filter(regex='^'+i, axis=0).loc[:, 'dbd'].values[0]\n",
    "    wtbind = gn.get_zscored(tfs_binding_deletions_tef).filter(regex='Full').filter(regex='^'+i)\n",
    "    labbind = gn.get_zscored(lab_dat).filter(regex='^'+i)\n",
    "    clbind = gn.get_zscored(ordered_df).filter(regex='^'+i)\n",
    "    \n",
    "    cl1 = clbind.loc[set(cdbds).intersection(cwt)].sort_values(by=clbind.iloc[:,0].name, ascending=False)\n",
    "    cl2 = clbind.loc[set(cdbds).difference(cwt)].sort_values(by=clbind.iloc[:,0].name, ascending=False)\n",
    "    \n",
    "    wl.extend(cl1.index.values)\n",
    "    dl.extend(cl2.index.values)\n",
    "    \n",
    "    to_p_dat = ordered_df_all.filter(regex='^'+i)\n",
    "    to_p_ts = fg.get_targets_df(to_p_dat, 3, 'tf', opn.loc[bins.index[:-1]])\n",
    "    to_p_ts = pd.Index(np.concatenate(np.concatenate(to_p_ts.values))).drop_duplicates()\n",
    "    plot_dat = gn.get_zscored(to_p_dat).loc[to_p_ts]\n",
    "    \n",
    "    wtoebind.extend(wtbind.loc[plot_dat.index].transpose().values[0])\n",
    "    labbindl.extend(labbind.loc[plot_dat.index].transpose().values[0])\n",
    "\n",
    "    induc.extend(summary_stat_d[i][0][stats[numi]].loc[plot_dat.index, 'spearman'])\n",
    "    names.extend(plot_dat.index)\n",
    "    dbdbind.extend(plot_dat.iloc[:,0])\n",
    "    dmed15.extend(d_log2med.loc[plot_dat.index, clbind.iloc[:,1].name])\n",
    "    \n",
    "    fig, ax = plt.subplots(2,1, height_ratios=[8,1])\n",
    "    d = sns.heatmap(plot_dat.transpose(), cmap='BuPu', vmin=0, vmax=8, ax=ax[0], xticklabels=False)\n",
    "    sns.heatmap(pd.DataFrame(opn.loc[plot_dat.index, 'opn_score']).T, cmap='coolwarm',\n",
    "                center=opn.opn_score.mean(), vmax=opn.opn_score.max(), vmin=opn.opn_score.min(), ax=ax[1])\n",
    "    for _, spine in d.spines.items():\n",
    "        spine.set_visible(True)\n",
    "    ax[0].set_xticklabels('')\n",
    "    ax[0].set_xlabel('')\n",
    "    ax[1].set_xticklabels('')\n",
    "    ax[1].set_xlabel('')\n",
    "    \n",
    "    if i != 'Mig3':\n",
    "        fig.savefig('figures/Main/fig5/5C_{}.pdf'.format(i), bbox_inches = 'tight', transparent=True)\n",
    "    else:\n",
    "        fig.savefig('figures/Supp/S13A.pdf'.format(i), bbox_inches = 'tight', transparent=True)\n",
    "\n",
    "\n",
    "wl = pd.Index(wl).drop_duplicates()\n",
    "dl = pd.Index(dl).drop_duplicates()\n",
    "\n",
    "df = pd.DataFrame([names, induc, dmed15, dbdbind, wtoebind, labbindl], index=['genes', 'induc', 'dmed', 'dbd','wt','lab']).transpose().dropna()"
   ]
  },
  {
   "cell_type": "code",
   "execution_count": null,
   "id": "6f06bb4e-d654-4b27-a69e-3d98c34c5008",
   "metadata": {
    "papermill": {
     "duration": null,
     "end_time": null,
     "exception": null,
     "start_time": null,
     "status": "pending"
    },
    "tags": []
   },
   "outputs": [],
   "source": [
    "wldl = pd.DataFrame({i:pd.Series(native_med.loc[k].transpose().values[0]) for i,k in enumerate([wl,dl])})\n",
    "wldl.columns = ['common', 'newly acquired']\n",
    "\n",
    "fig, ax = plt.subplots(1, figsize=(3,2), dpi=200)\n",
    "sns.stripplot(wldl, ax=ax, palette=sns.cubehelix_palette(n_colors=3), edgecolors='k', linewidth=1, alpha=.8)\n",
    "pval = scipy.stats.ttest_ind(wldl.common.dropna(), wldl.loc[:, 'newly acquired'].dropna())[1]\n",
    "ax.set_ylabel('Med15 z-score')\n",
    "ax.text(.5,10,'p-val<0.0001')\n",
    "fig.savefig('figures/Main/fig5/5C_right.pdf'.format(i), bbox_inches = 'tight', transparent=True)\n"
   ]
  },
  {
   "cell_type": "markdown",
   "id": "e4b8cd1c-ca23-4647-bcc8-3208de902290",
   "metadata": {
    "papermill": {
     "duration": null,
     "end_time": null,
     "exception": null,
     "start_time": null,
     "status": "pending"
    },
    "tags": []
   },
   "source": [
    "# Fig 4D, Supp. fig 8B"
   ]
  },
  {
   "cell_type": "code",
   "execution_count": null,
   "id": "68011493-1aee-4759-87f5-849b3805ec65",
   "metadata": {
    "papermill": {
     "duration": null,
     "end_time": null,
     "exception": null,
     "start_time": null,
     "status": "pending"
    },
    "tags": []
   },
   "outputs": [],
   "source": [
    "log2med = np.log2(pd.concat([med15newdat], axis=1)).drop(['Sko1dbdGcn4AD_med15mnase','Mig3dbdGal4AD_med15mnase'], axis=1)\n",
    "log2med.replace([np.inf, -np.inf], np.nan, inplace=True)\n",
    "d_log2med = log2med.sub(log2med.Native_med15mnase, axis=0)\n",
    "d_log2med.replace([np.inf, -np.inf], np.nan, inplace=True)\n",
    "med15tf = med15newdat.loc[bins.index[:-1], log2med.columns]\n",
    "\n",
    "tsh = 3\n",
    "dbdts = fg.get_targets_df(ordered_df.filter(regex='DBD'),tsh,'dbd',opn.loc[bins.index[:-1]], '').sort_index(axis=0)\n",
    "wtts = fg.get_targets_df(tfs_binding_deletions_tef.filter(regex='Full').sort_index(axis=1),tsh,'wt',opn.loc[bins.index[:-1]], '').sort_index(axis=0)\n",
    "\n",
    "dtfmed = pd.read_csv('data/average_sp_dtf.csv', index_col=0).loc[bins.index[:-1]]\n",
    "\n",
    "log2dtf = np.log2(dtfmed)\n",
    "log2dtf.replace([np.inf, -np.inf], np.nan, inplace=True)"
   ]
  },
  {
   "cell_type": "markdown",
   "id": "5fc313f1-9d55-47ac-93bb-f01a26fef828",
   "metadata": {
    "papermill": {
     "duration": null,
     "end_time": null,
     "exception": null,
     "start_time": null,
     "status": "pending"
    },
    "tags": []
   },
   "source": [
    "# Fig. 5D"
   ]
  },
  {
   "cell_type": "code",
   "execution_count": null,
   "id": "312602a7-093f-42c4-81f4-4a7de42fe749",
   "metadata": {
    "papermill": {
     "duration": null,
     "end_time": null,
     "exception": null,
     "start_time": null,
     "status": "pending"
    },
    "tags": []
   },
   "outputs": [],
   "source": [
    "\n",
    "fig, ax = plt.subplots(1,2, figsize=(10,4))\n",
    "for numi, i in enumerate(['Gal4', 'Msn2']):\n",
    "    cwt = wtts.filter(regex='^'+i, axis=0).loc[:, 'wt'].values[0]\n",
    "    cdbds = dbdts.filter(regex='^'+i, axis=0).loc[:, 'dbd'].values[0]\n",
    "    wtbind = gn.get_zscored(tfs_binding_deletions_tef).filter(regex='Full').filter(regex='^'+i)\n",
    "    labbind = gn.get_zscored(lab_dat).filter(regex='^'+i)\n",
    "    clbind = gn.get_zscored(ordered_df).filter(regex='^'+i)\n",
    "    \n",
    "    cl1 = clbind.loc[set(cdbds).intersection(cwt)].index\n",
    "    cl2 = clbind.loc[set(cdbds).difference(cwt)].index\n",
    "    allts = list(cl1)+list(cl2)\n",
    "\n",
    "    induc = summary_stat_d[i][0][stats[numi]].loc[allts, 'spearman'].values\n",
    "    fdr = summary_stat_d[i][0][stats[numi]].loc[allts, 'fdr_corr'].values\n",
    "    induc[~np.logical_and(induc > 0, fdr)] = 30\n",
    "    induc[np.logical_and(induc > 0, fdr)] = 120\n",
    "\n",
    "    y_gray = np.log2(gn.get_zscored(med15tf)+1).filter(regex='^'+i).drop(allts)\n",
    "    x_gray = np.log2(gn.get_zscored(dtfmed)+1).filter(regex=i).drop(allts)\n",
    "    y= np.log2(gn.get_zscored(med15tf)+1).filter(regex='^'+i).loc[allts]\n",
    "    x= np.log2(gn.get_zscored(dtfmed)+1).filter(regex=i).loc[allts]\n",
    "    \n",
    "    a = dict(zip(cl1, ['#CECAE5']*len(cl1)))\n",
    "    a.update(dict(zip(cl2, ['#C9E2CE']*len(cl2))))\n",
    "    c = pd.DataFrame(a, index=['c']).transpose().c.values\n",
    "    ax[numi].axline(xy1=(0,0), slope=1,c='k', linestyle=':')\n",
    "    ax[numi].scatter(x_gray, y_gray, s=5,c='gainsboro', rasterized=True)\n",
    "    sc = ax[numi].scatter(x,y,c=c,s=90, edgecolors='k', alpha=.8)\n",
    "    ax[numi].set_title(clbind.columns[0])\n",
    "    ax[numi].set_xlabel('Med15-Mnase d{}'.format(i))\n",
    "    ax[numi].set_ylabel('Med15-Mnase in {}'.format(clbind.columns[0]))\n",
    "\n",
    "    fig.suptitle('log2 zscore')\n",
    "    fig.savefig('figures/Main/fig5/5D_{}.pdf'.format(i), bbox_inches = 'tight', transparent=True)\n"
   ]
  },
  {
   "cell_type": "markdown",
   "id": "e6baabe2-19c4-4570-9468-9c5ac3ba1443",
   "metadata": {
    "papermill": {
     "duration": null,
     "end_time": null,
     "exception": null,
     "start_time": null,
     "status": "pending"
    },
    "tags": []
   },
   "source": [
    "# S13B"
   ]
  },
  {
   "cell_type": "code",
   "execution_count": null,
   "id": "6747caae-4753-4d02-b22d-74edd3991dd3",
   "metadata": {
    "papermill": {
     "duration": null,
     "end_time": null,
     "exception": null,
     "start_time": null,
     "status": "pending"
    },
    "tags": []
   },
   "outputs": [],
   "source": [
    "mig_df =  pd.concat([alltogether.filter(regex='^{}'.format(i)) for i in ['Mig3']], axis=1)\n",
    "mig_df.columns = ['_'.join(k.split('_')[0:2]) for k in mig_df.columns.values]\n",
    "mig_df = mig_df.drop('Mig3Full_dMig3', axis=1)\n",
    "dbdts = fg.get_targets_df(mig_df,3,'dbd',opn,'')\n",
    "\n",
    "\n",
    "log2med = np.log2(pd.concat([med15newdat], axis=1)).filter(regex='Mig3')\n",
    "log2med.replace([np.inf, -np.inf], np.nan, inplace=True)\n",
    "med15tf = med15newdat.loc[bins.index[:-1], log2med.columns]"
   ]
  },
  {
   "cell_type": "code",
   "execution_count": null,
   "id": "bd920e4e-05ae-45c8-9830-cbeba81bdfbb",
   "metadata": {
    "papermill": {
     "duration": null,
     "end_time": null,
     "exception": null,
     "start_time": null,
     "status": "pending"
    },
    "tags": []
   },
   "outputs": [],
   "source": [
    "fig, ax = plt.subplots(1,2, figsize=(10,4))\n",
    "cwt = wtts.filter(regex='^Mig3', axis=0).loc[:, 'wt'].values[0]\n",
    "wtbind = gn.get_zscored(tfs_binding_deletions_tef).filter(regex='Full').filter(regex='^Mig3')\n",
    "labbind = gn.get_zscored(lab_dat).filter(regex='^Mig3')\n",
    "\n",
    "for numi, i in enumerate(['Gal4AD', 'Gcn4AD']):\n",
    "    cdbds = dbdts.filter(regex=i, axis=0).loc[:, 'dbd'].values[0]\n",
    "\n",
    "    clbind = gn.get_zscored(mig_df).filter(regex=i)\n",
    "    \n",
    "    cl1 = clbind.loc[set(cdbds).intersection(cwt)].index\n",
    "    cl2 = clbind.loc[set(cdbds).difference(cwt)].index\n",
    "    allts = list(cl1)+list(cl2)\n",
    "\n",
    "    induc = summary_stat_d['Mig3'][0][numi+1].loc[allts, 'spearman']\n",
    "    \n",
    "    y_gray = np.log2(gn.get_zscored(med15tf)+1).filter(regex=i).drop(allts)\n",
    "    x_gray = np.log2(gn.get_zscored(dtfmed)+1).filter(regex='Mig3').drop(allts)\n",
    "    y= np.log2(gn.get_zscored(med15tf)+1).filter(regex=i).loc[allts]\n",
    "    x= np.log2(gn.get_zscored(dtfmed)+1).filter(regex='Mig3').loc[allts]\n",
    "    \n",
    "    a = dict(zip(cl1, ['#CECAE5']*len(cl1)))\n",
    "    a.update(dict(zip(cl2, ['#C9E2CE']*len(cl2))))\n",
    "    c = pd.DataFrame(a, index=['c']).transpose().c.values\n",
    "    ax[numi].axline(xy1=(0,0), slope=1,c='k', linestyle=':')\n",
    "    ax[numi].scatter(x_gray, y_gray, s=5,c='gainsboro', rasterized=True)\n",
    "    sc = ax[numi].scatter(x,y,c=c,s=90, edgecolors='k', alpha=.8, linewidths=.5)\n",
    "    ax[numi].set_title(clbind.columns[0])\n",
    "    ax[numi].set_xlabel('Med15-Mnase d{}'.format(i))\n",
    "    ax[numi].set_ylabel('Med15-Mnase in {}'.format(clbind.columns[0]))\n",
    "    \n",
    "    fig.suptitle('log2 zscore')\n",
    "    fig.savefig('figures/Supp/S13B_{}.pdf'.format(i), bbox_inches = 'tight', transparent=True)\n"
   ]
  },
  {
   "cell_type": "markdown",
   "id": "7247fc3f-16bc-42b3-a3d1-b7393bf9c14a",
   "metadata": {
    "papermill": {
     "duration": null,
     "end_time": null,
     "exception": null,
     "start_time": null,
     "status": "pending"
    },
    "tags": []
   },
   "source": [
    "# Fig 4E"
   ]
  },
  {
   "cell_type": "code",
   "execution_count": null,
   "id": "6ef35a4b-6491-4ece-9ad9-28152c1ea484",
   "metadata": {
    "papermill": {
     "duration": null,
     "end_time": null,
     "exception": null,
     "start_time": null,
     "status": "pending"
    },
    "tags": []
   },
   "outputs": [],
   "source": [
    "log2med = np.log2(pd.concat([med15newdat], axis=1)).drop(['Sko1dbdGcn4AD_med15mnase','Mig3dbdGal4AD_med15mnase'], axis=1)\n",
    "log2med.replace([np.inf, -np.inf], np.nan, inplace=True)\n",
    "dmed = log2med.drop('Native_med15mnase', axis=1).sub(log2dtf.values, axis=0)\n",
    "path = 'data/chec_signals/'\n",
    "signals = os.listdir(path)\n",
    "files = pd.DataFrame(range(len(signals)), index=signals).filter(regex='700', axis=0)\n",
    "nfiles = ['Gal4DBD_Gal4AD_dGal4_deletions_tef_3_reps_0.95_meancorr_700bp_signals.gz',\n",
    "'Mig3DBD_Gcn4AD_dMig3_deletions_tef_3_reps_0.97_meancorr_700bp_signals.gz',\n",
    "'Msn2DBD_Gal4AD_dMsn2_deletions_tef_3_reps_0.99_meancorr_700bp_signals.gz']\n",
    "files=files.loc[nfiles,:]"
   ]
  },
  {
   "cell_type": "code",
   "execution_count": null,
   "id": "272f26dc-b8be-43b3-b653-0d6dae342eea",
   "metadata": {
    "papermill": {
     "duration": null,
     "end_time": null,
     "exception": null,
     "start_time": null,
     "status": "pending"
    },
    "tags": []
   },
   "outputs": [],
   "source": [
    "tsh = 3\n",
    "dbdts = fg.get_targets_df(ordered_df.filter(regex='DBD'),tsh,'dbd',opn.loc[bins.index[:-1]], '').sort_index(axis=0)\n",
    "wtts = fg.get_targets_df(tfs_binding_deletions_tef.filter(regex='Full').sort_index(axis=1),tsh,'wt',opn.loc[bins.index[:-1]], '').sort_index(axis=0)\n",
    "\n",
    "log2med = np.log2(med15newdat)\n",
    "d_log2med = log2med.sub(log2med.Native_med15mnase, axis=0)\n",
    "d_log2med.replace([np.inf, -np.inf], np.nan, inplace=True)\n",
    "\n",
    "wl = list()\n",
    "dl = list()\n",
    "stats = [1,1,2]\n",
    "induc = list()\n",
    "names = list()\n",
    "dmed15 = list()\n",
    "dbdbind = list()\n",
    "wtoebind = list()\n",
    "labbindl = list()\n",
    "peaks = list()\n",
    "for numi, i in enumerate(['Gal4', 'Msn2','Mig3']):\n",
    "    cwt = wtts.filter(regex='^'+i, axis=0).loc[:, 'wt'].values[0]\n",
    "    cdbds = dbdts.filter(regex='^'+i, axis=0).loc[:, 'dbd'].values[0]\n",
    "    wtbind = gn.get_zscored(tfs_binding_deletions_tef).filter(regex='Full').filter(regex='^'+i)\n",
    "    labbind = gn.get_zscored(lab_dat).filter(regex='^'+i)\n",
    "    clbind = gn.get_zscored(ordered_df).filter(regex='^'+i)\n",
    "    \n",
    "    cl1 = clbind.loc[set(cdbds).intersection(cwt)].sort_values(by=clbind.iloc[:,0].name, ascending=False)\n",
    "    cl2 = clbind.loc[set(cdbds).difference(cwt)].sort_values(by=clbind.iloc[:,0].name, ascending=False)\n",
    "    currf = files.filter(regex='^'+i, axis=0).index[0]\n",
    "    cpeaks = pd.read_pickle(os.path.join(path, currf)).loc[cdbds].rolling(window=50, axis=1, center=True).mean(skipna=True).idxmax(axis=1).values\n",
    "    peaks.extend(cpeaks)\n",
    "    wl.extend(cl1.index.values)\n",
    "    dl.extend(cl2.index.values)\n",
    "    \n",
    "    plot_dat = pd.concat([cl1, cl2], axis=0)\n",
    "    wtoebind.extend(wtbind.loc[plot_dat.index].transpose().values[0])\n",
    "    labbindl.extend(labbind.loc[plot_dat.index].transpose().values[0])\n",
    "\n",
    "    induc.extend(summary_stat_d[i][0][stats[numi]].loc[plot_dat.index, 'spearman'])\n",
    "    names.extend(plot_dat.index)\n",
    "    dbdbind.extend(plot_dat.iloc[:,0])\n",
    "    dmed15.extend(dmed.loc[plot_dat.index, clbind.iloc[:,1].name])\n",
    "\n",
    "wl = pd.Index(wl).drop_duplicates()\n",
    "dl = pd.Index(dl).drop_duplicates()\n",
    "\n",
    "df = pd.DataFrame([names, induc, dmed15, dbdbind, wtoebind, labbindl, peaks],\n",
    "                  index=['genes', 'induc', 'dmed', 'dbd','wt','lab', 'peaks']).transpose().dropna()\n",
    "df.index = df.genes\n",
    "params = pd.read_csv('data/params_compendium.csv', index_col=0)\n",
    "\n",
    "df_all_pars = pd.concat([df, params.loc[df.genes.values]], axis=1)\n",
    "df_all_pars.loc[:, 'pugh'] = df_all_pars.pugh.map(lambda x: True if x=='02_STM' else False)\n",
    "df_all_pars.loc[:, 'dependence'] =  df_all_pars.dependence.map(lambda x: True if x == 'tail_dependent' else False)\n",
    "df_all_pars = df_all_pars.drop('genes', axis=1)"
   ]
  },
  {
   "cell_type": "code",
   "execution_count": null,
   "id": "6b7c71f4-4bda-4171-9367-2d2c81ef13d6",
   "metadata": {
    "papermill": {
     "duration": null,
     "end_time": null,
     "exception": null,
     "start_time": null,
     "status": "pending"
    },
    "tags": []
   },
   "outputs": [],
   "source": [
    "wind=50\n",
    "currd_mean = df_all_pars.dropna().\\\n",
    "sort_values(by='induc').rolling(window=wind, center=True).mean().dropna()\n",
    "currd_std = (df_all_pars.dropna().\\\n",
    "sort_values(by='induc').rolling(window=wind, center=True).sem()).dropna()\n",
    "\n",
    "lower = currd_mean - currd_std\n",
    "upper = currd_mean + currd_std\n",
    "lwid=.5\n",
    "\n",
    "fig, ax = plt.subplots(1)\n",
    "ax.plot(currd_mean.loc[:,'induc'], currd_mean.loc[:,'dmed'], c='k', linewidth=lwid)\n",
    "ax.fill_between(currd_mean.loc[:,'induc'], lower.loc[:, 'dmed'], upper.loc[:, 'dmed'], alpha=0.2, color='darkslategray')\n",
    "ax.set_xlabel('induc')\n",
    "ax.set_ylabel('dmed')\n",
    "\n",
    "fig.savefig('figures/Main/fig5/5E.pdf', bbox_inches = 'tight', transparent=True)\n"
   ]
  },
  {
   "cell_type": "markdown",
   "id": "95ee861b-c62d-4ae5-8135-bc8bfe2143fb",
   "metadata": {
    "papermill": {
     "duration": null,
     "end_time": null,
     "exception": null,
     "start_time": null,
     "status": "pending"
    },
    "tags": []
   },
   "source": [
    "# Supp"
   ]
  },
  {
   "cell_type": "code",
   "execution_count": null,
   "id": "91c6a169-0c67-4ad3-a164-d2b96cdfb7c6",
   "metadata": {
    "papermill": {
     "duration": null,
     "end_time": null,
     "exception": null,
     "start_time": null,
     "status": "pending"
    },
    "tags": []
   },
   "outputs": [],
   "source": [
    "med15_chec_external = pd.read_csv('data/external_datasets/Donczew_Warfield_2022.csv', index_col=0)\n",
    "med15_chip_chip = pd.read_csv('data/external_datasets/Jeronimo_Robert_2018.csv', index_col=0)"
   ]
  },
  {
   "cell_type": "code",
   "execution_count": null,
   "id": "64af5f8a-48c8-4267-b94a-454700fcb15f",
   "metadata": {
    "papermill": {
     "duration": null,
     "end_time": null,
     "exception": null,
     "start_time": null,
     "status": "pending"
    },
    "tags": []
   },
   "outputs": [],
   "source": [
    "cross_index = pd.Index(set(data_waro.index).intersection(med15_chip_chip.index))"
   ]
  },
  {
   "cell_type": "code",
   "execution_count": null,
   "id": "2b2837b9-43b7-49e1-9677-88ecc6003232",
   "metadata": {
    "papermill": {
     "duration": null,
     "end_time": null,
     "exception": null,
     "start_time": null,
     "status": "pending"
    },
    "tags": []
   },
   "outputs": [],
   "source": [
    "qa_bind_data = pd.concat([np.log2(med15newdat.loc[cross_index].Native_med15mnase), np.log2(med15_chec_external.loc[cross_index]), med15_chip_chip], axis=1)\n",
    "\n",
    "qa_bind_data = qa_bind_data.replace(-np.inf, np.nan).drop('HXT7')"
   ]
  },
  {
   "cell_type": "code",
   "execution_count": null,
   "id": "a6485ed7-c524-4698-9313-93d87bafe84f",
   "metadata": {
    "papermill": {
     "duration": null,
     "end_time": null,
     "exception": null,
     "start_time": null,
     "status": "pending"
    },
    "tags": []
   },
   "outputs": [],
   "source": [
    "fig = pd.plotting.scatter_matrix(qa_bind_data, figsize=(8,8))\n",
    "plt.savefig('figures/Supp/S12B_1.pdf')\n",
    "\n",
    "fig, ax = plt.subplots(1)\n",
    "sns.heatmap(qa_bind_data.corr(), ax=ax, annot=True, cmap='BuPu', cbar_kws=dict(label='perason\\'s r'))\n",
    "plt.savefig('figures/Supp/S12B_2.pdf')\n"
   ]
  },
  {
   "cell_type": "code",
   "execution_count": null,
   "id": "07aa2201-7fa8-4bc9-9ae9-4b9c35b3269d",
   "metadata": {
    "papermill": {
     "duration": null,
     "end_time": null,
     "exception": null,
     "start_time": null,
     "status": "pending"
    },
    "tags": []
   },
   "outputs": [],
   "source": [
    "holstege = pd.read_csv('data/external_datasets/holstege_med.csv', index_col=0).loc[data_waro.index]"
   ]
  },
  {
   "cell_type": "code",
   "execution_count": null,
   "id": "e7745293-2860-4b31-b1cf-465bca8852bf",
   "metadata": {
    "papermill": {
     "duration": null,
     "end_time": null,
     "exception": null,
     "start_time": null,
     "status": "pending"
    },
    "tags": []
   },
   "outputs": [],
   "source": [
    "mediator_dep = pd.concat([holstege, gn.get_zscored(med15newdat).Native_med15mnase], axis=1)"
   ]
  },
  {
   "cell_type": "code",
   "execution_count": null,
   "id": "76d57544-7064-440e-9ce3-e87997930086",
   "metadata": {
    "papermill": {
     "duration": null,
     "end_time": null,
     "exception": null,
     "start_time": null,
     "status": "pending"
    },
    "tags": []
   },
   "outputs": [],
   "source": [
    "wind=150\n",
    "currd_mean = mediator_dep.loc[:, :].dropna().\\\n",
    "sort_values(by='Native_med15mnase').rolling(window=wind, center=True).mean()\n",
    "currd_std = mediator_dep.loc[:, :].dropna().\\\n",
    "sort_values(by='Native_med15mnase').rolling(window=wind, center=True).sem()\n",
    "\n",
    "lower = currd_mean - currd_std\n",
    "upper = currd_mean + currd_std"
   ]
  },
  {
   "cell_type": "code",
   "execution_count": null,
   "id": "efc6a41c-45ff-4910-85cb-168bdb338695",
   "metadata": {
    "papermill": {
     "duration": null,
     "end_time": null,
     "exception": null,
     "start_time": null,
     "status": "pending"
    },
    "tags": []
   },
   "outputs": [],
   "source": [
    "fig, ax = plt.subplots(1)\n",
    "\n",
    "alpha = .3\n",
    "ax.plot(currd_mean.loc[:,'Native_med15mnase'], currd_mean.loc[:,'med15-del vs. wt'], c='k', linewidth=lwd)\n",
    "ax.fill_between(currd_mean.loc[:,'Native_med15mnase'], lower.loc[:, 'med15-del vs. wt'], upper.loc[:, 'med15-del vs. wt'], alpha=alpha, color='yellow', label='dMed15 RNA-seq')\n",
    "\n",
    "ax.plot(currd_mean.loc[:,'Native_med15mnase'], currd_mean.loc[:,'med2-del vs. wt'], c='k', linewidth=lwd)\n",
    "ax.fill_between(currd_mean.loc[:,'Native_med15mnase'], lower.loc[:, 'med2-del vs. wt'], upper.loc[:, 'med2-del vs. wt'], alpha=alpha, color='green', label='dMed2 RNA-seq')\n",
    "\n",
    "ax.plot(currd_mean.loc[:,'Native_med15mnase'], currd_mean.loc[:,'med3-del vs. wt'], c='k', linewidth=lwd)\n",
    "ax.fill_between(currd_mean.loc[:,'Native_med15mnase'], lower.loc[:, 'med3-del vs. wt'], upper.loc[:, 'med3-del vs. wt'], alpha=alpha, color='darkslategray', label='dMed3 RNA-seq')\n",
    "\n",
    "\n",
    "ax.plot(currd_mean.loc[:,'Native_med15mnase'], currd_mean.loc[:,'med13-del vs. wt'], c='k', linewidth=lwd)\n",
    "ax.fill_between(currd_mean.loc[:,'Native_med15mnase'], lower.loc[:, 'med13-del vs. wt'], upper.loc[:, 'med13-del vs. wt'], alpha=alpha, color='red', label='dMed13 RNA-seq')\n",
    "ax.plot(currd_mean.loc[:,'Native_med15mnase'], currd_mean.loc[:,'med12-del vs. wt'], c='k', linewidth=lwd)\n",
    "ax.fill_between(currd_mean.loc[:,'Native_med15mnase'], lower.loc[:, 'med12-del vs. wt'], upper.loc[:, 'med12-del vs. wt'], alpha=alpha, color='maroon', label='dMed12 RNA-seq')\n",
    "\n",
    "ax.set_ylabel('Log2 FC')\n",
    "\n",
    "ax.set_xlabel('Med15 z-score binding')\n",
    "\n",
    "ax.legend()\n",
    "plt.savefig('figures/Supp/S12A.pdf')\n"
   ]
  },
  {
   "cell_type": "code",
   "execution_count": null,
   "id": "c948bdf0-453b-4ea0-b00a-1c473ab7b213",
   "metadata": {
    "papermill": {
     "duration": null,
     "end_time": null,
     "exception": null,
     "start_time": null,
     "status": "pending"
    },
    "tags": []
   },
   "outputs": [],
   "source": []
  }
 ],
 "metadata": {
  "kernelspec": {
   "display_name": "Publications env",
   "language": "python",
   "name": "papers_env"
  },
  "language_info": {
   "codemirror_mode": {
    "name": "ipython",
    "version": 3
   },
   "file_extension": ".py",
   "mimetype": "text/x-python",
   "name": "python",
   "nbconvert_exporter": "python",
   "pygments_lexer": "ipython3",
   "version": "3.8.3"
  },
  "papermill": {
   "default_parameters": {},
   "duration": 27.2556,
   "end_time": "2024-07-08T09:48:31.482096",
   "environment_variables": {},
   "exception": true,
   "input_path": "Main_fig5_Supp_12_13.ipynb",
   "output_path": "Main_fig5_Supp_12_13.ipynb",
   "parameters": {},
   "start_time": "2024-07-08T09:48:04.226496",
   "version": "2.5.0"
  }
 },
 "nbformat": 4,
 "nbformat_minor": 5
}